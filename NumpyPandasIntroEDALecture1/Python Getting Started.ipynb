{
 "cells": [
  {
   "cell_type": "markdown",
   "metadata": {},
   "source": [
    "# Basic datatypes in python"
   ]
  },
  {
   "cell_type": "code",
   "execution_count": 1,
   "metadata": {},
   "outputs": [],
   "source": [
    "## There are few basic types supported by python.\n",
    "## bool: Boolean (true/false) types\n",
    "## int: Signed integer types. ...\n",
    "## float: Floating point types. ...\n",
    "## complex: Complex number types. ...\n",
    "## string: Raw string types. ...\n",
    "## time: Data/time types. ...\n",
    "## enum: Enumerated types."
   ]
  },
  {
   "cell_type": "code",
   "execution_count": 2,
   "metadata": {},
   "outputs": [
    {
     "name": "stdout",
     "output_type": "stream",
     "text": [
      "3 <class 'int'>\n"
     ]
    }
   ],
   "source": [
    "x = 3\n",
    "print (x , type(x))"
   ]
  },
  {
   "cell_type": "code",
   "execution_count": 3,
   "metadata": {},
   "outputs": [],
   "source": [
    "x = 3"
   ]
  },
  {
   "cell_type": "code",
   "execution_count": 4,
   "metadata": {},
   "outputs": [
    {
     "name": "stdout",
     "output_type": "stream",
     "text": [
      "4\n"
     ]
    }
   ],
   "source": [
    "print (x + 1)"
   ]
  },
  {
   "cell_type": "code",
   "execution_count": 5,
   "metadata": {},
   "outputs": [
    {
     "name": "stdout",
     "output_type": "stream",
     "text": [
      "2 15 1.5\n"
     ]
    }
   ],
   "source": [
    "print ((x - 1) , (x * 5) , (x/2))"
   ]
  },
  {
   "cell_type": "code",
   "execution_count": 6,
   "metadata": {},
   "outputs": [
    {
     "name": "stdout",
     "output_type": "stream",
     "text": [
      "True True\n"
     ]
    }
   ],
   "source": [
    "print (True , (x == 3))"
   ]
  },
  {
   "cell_type": "code",
   "execution_count": 7,
   "metadata": {},
   "outputs": [
    {
     "name": "stdout",
     "output_type": "stream",
     "text": [
      "False True True True\n"
     ]
    }
   ],
   "source": [
    "# Logical operators on booleans\n",
    "t , f = True , False\n",
    "print (t and f , t or f , not f , t != f)"
   ]
  },
  {
   "cell_type": "code",
   "execution_count": 8,
   "metadata": {},
   "outputs": [
    {
     "name": "stdout",
     "output_type": "stream",
     "text": [
      "False\n"
     ]
    }
   ],
   "source": [
    "print ( (x % 2) == 0)"
   ]
  },
  {
   "cell_type": "code",
   "execution_count": 9,
   "metadata": {},
   "outputs": [
    {
     "name": "stdout",
     "output_type": "stream",
     "text": [
      "57.78\n",
      "<class 'float'> None\n"
     ]
    }
   ],
   "source": [
    "y = 19.26 \n",
    "print ( type(y) , print(x * y))"
   ]
  },
  {
   "cell_type": "code",
   "execution_count": 10,
   "metadata": {},
   "outputs": [
    {
     "name": "stdout",
     "output_type": "stream",
     "text": [
      "Hello World !! <class 'str'>\n"
     ]
    }
   ],
   "source": [
    "myHW = \"Hello World !!\"\n",
    "print ( myHW, type(myHW))"
   ]
  },
  {
   "cell_type": "code",
   "execution_count": 11,
   "metadata": {},
   "outputs": [
    {
     "name": "stdout",
     "output_type": "stream",
     "text": [
      "14 Hello world !! HELLO WORLD !!\n"
     ]
    }
   ],
   "source": [
    "print ( len(myHW) , myHW.capitalize() , myHW.upper())"
   ]
  },
  {
   "cell_type": "code",
   "execution_count": 12,
   "metadata": {},
   "outputs": [
    {
     "name": "stdout",
     "output_type": "stream",
     "text": [
      "Hello World !!   Welcome to the Future !!!\n"
     ]
    }
   ],
   "source": [
    "biggerString =  myHW + '  ' + ' Welcome to the Future !!!'\n",
    "print (biggerString) # basic conatenation\n"
   ]
  },
  {
   "cell_type": "code",
   "execution_count": 13,
   "metadata": {},
   "outputs": [
    {
     "name": "stdout",
     "output_type": "stream",
     "text": [
      "['Hello', 'World', '!!', '', '', 'Welcome', 'to', 'the', 'Future', '!!!']\n"
     ]
    }
   ],
   "source": [
    "# With the split function we enter Container Types in python called list\n",
    "print (biggerString.split(\" \"))\n",
    "stringList = biggerString.split(\" \")"
   ]
  },
  {
   "cell_type": "markdown",
   "metadata": {},
   "source": [
    "The list is a most versatile datatype available in Python which can be written as a list of comma-separated values (items) between square brackets. Important thing about a list is that items in a list need not be of the same type."
   ]
  },
  {
   "cell_type": "code",
   "execution_count": 14,
   "metadata": {
    "scrolled": true
   },
   "outputs": [
    {
     "name": "stdout",
     "output_type": "stream",
     "text": [
      "10 Hello !!!\n"
     ]
    }
   ],
   "source": [
    "print ( len(stringList) , stringList[0] , stringList[-1])"
   ]
  },
  {
   "cell_type": "code",
   "execution_count": 15,
   "metadata": {},
   "outputs": [
    {
     "name": "stdout",
     "output_type": "stream",
     "text": [
      "['', ''] ['World', '!!', '', '', 'Welcome']\n"
     ]
    }
   ],
   "source": [
    "print (stringList[3:5] , stringList[1:-4]) ## Slicing the list"
   ]
  },
  {
   "cell_type": "code",
   "execution_count": 16,
   "metadata": {},
   "outputs": [
    {
     "name": "stdout",
     "output_type": "stream",
     "text": [
      "['Hello', 'World', '!!', '', '', 'Welcome', 'to', 'the', 'Future', '!!!', -9999] 11\n"
     ]
    }
   ],
   "source": [
    "stringList.append(-9999)\n",
    "print (stringList , len(stringList))  ## A list can contain heterogenous types. It is just a list of different types of objects"
   ]
  },
  {
   "cell_type": "code",
   "execution_count": 48,
   "metadata": {},
   "outputs": [
    {
     "name": "stdout",
     "output_type": "stream",
     "text": [
      "['Federrer', 'Novak', 'Rafael', 'Serena', 'Venus', 'Sharapova']\n"
     ]
    }
   ],
   "source": [
    "tennisPlayers = ['Federrer','Novak','Rafael'] + ['Serena' , 'Venus' ,'Sharapova']\n",
    "print (tennisPlayers)"
   ]
  },
  {
   "cell_type": "code",
   "execution_count": 49,
   "metadata": {},
   "outputs": [
    {
     "name": "stdout",
     "output_type": "stream",
     "text": [
      "['Federrer', 'Federrer', 'Federrer', 'Federrer', 'Federrer', 'Federrer']\n"
     ]
    }
   ],
   "source": [
    "print ( ['Federrer'] * 6)"
   ]
  },
  {
   "cell_type": "code",
   "execution_count": 50,
   "metadata": {},
   "outputs": [
    {
     "name": "stdout",
     "output_type": "stream",
     "text": [
      "True\n"
     ]
    }
   ],
   "source": [
    "print ( 'Federrer' in tennisPlayers)"
   ]
  },
  {
   "cell_type": "code",
   "execution_count": 51,
   "metadata": {},
   "outputs": [
    {
     "name": "stdout",
     "output_type": "stream",
     "text": [
      "Federrer\n",
      "Novak\n",
      "Rafael\n",
      "Serena\n",
      "Venus\n",
      "Sharapova\n"
     ]
    }
   ],
   "source": [
    "## Basic form of iterating a list is the for loop\n",
    "for playerName in tennisPlayers:\n",
    "    print (playerName)"
   ]
  },
  {
   "cell_type": "code",
   "execution_count": 52,
   "metadata": {},
   "outputs": [
    {
     "name": "stdout",
     "output_type": "stream",
     "text": [
      "[100000, 1200000, 1500000, 900000, 800000]\n"
     ]
    }
   ],
   "source": [
    "## List comprehensions\n",
    "housePricesInKDollars = [ 100,1200,1500,900,800]\n",
    "housePricesInDollars = [ (x*1000) for x in housePricesInKDollars]\n",
    "print (housePricesInDollars)"
   ]
  },
  {
   "cell_type": "code",
   "execution_count": 53,
   "metadata": {},
   "outputs": [
    {
     "name": "stdout",
     "output_type": "stream",
     "text": [
      "['Federrer', 'Novak', 'Rafael', 'Serena', 'Venus', 'Sharapova']\n",
      "['Federrer', 'Rafael', 'Serena', 'Venus', 'Sharapova']\n",
      "Sharapova\n",
      "['Federrer', 'Rafael', 'Serena', 'Venus']\n",
      "['Federrer', 'Rafael', 'Serena']\n",
      "Serena\n",
      "['Federrer', 'Rafael']\n"
     ]
    }
   ],
   "source": [
    "## Deleting or removing elements from list\n",
    "print(tennisPlayers)\n",
    "del tennisPlayers[1]\n",
    "print (tennisPlayers)\n",
    "print(tennisPlayers.pop()) ## poping the last elements\n",
    "print(tennisPlayers)\n",
    "tennisPlayers.remove('Venus')\n",
    "print(tennisPlayers)\n",
    "print(tennisPlayers.pop(2))\n",
    "print(tennisPlayers)"
   ]
  },
  {
   "cell_type": "code",
   "execution_count": 58,
   "metadata": {},
   "outputs": [
    {
     "name": "stdout",
     "output_type": "stream",
     "text": [
      "['Federrer', 'Rafael']\n",
      "1\n"
     ]
    }
   ],
   "source": [
    "## There are few other pre defined things we can do with lis\n",
    "tennisPlayers.reverse()\n",
    "print(tennisPlayers)\n",
    "print(tennisPlayers.count('Federrer'))"
   ]
  },
  {
   "cell_type": "markdown",
   "metadata": {},
   "source": [
    " A Python dictionary is a mapping of unique keys to values. Dictionaries are mutable, which means they can be changed. The values that the keys point to can be any Python value. Dictionaries are unordered, so the order that the keys are added doesn't necessarily reflect what order they may be reported back."
   ]
  },
  {
   "cell_type": "code",
   "execution_count": 59,
   "metadata": {},
   "outputs": [],
   "source": [
    "## The other most widely used containers are dictionaries\n",
    "worldSports = { 'Tennis' : 'Roger F' , 'Football' : 'Leonel M' , 'Cricket' : 'Sachin T'} "
   ]
  },
  {
   "cell_type": "code",
   "execution_count": 60,
   "metadata": {},
   "outputs": [
    {
     "name": "stdout",
     "output_type": "stream",
     "text": [
      "{'Tennis': 'Roger F', 'Football': 'Leonel M', 'Cricket': 'Sachin T'}\n"
     ]
    }
   ],
   "source": [
    "print(worldSports)"
   ]
  },
  {
   "cell_type": "code",
   "execution_count": null,
   "metadata": {},
   "outputs": [],
   "source": []
  }
 ],
 "metadata": {
  "kernelspec": {
   "display_name": "Python 3",
   "language": "python",
   "name": "python3"
  },
  "language_info": {
   "codemirror_mode": {
    "name": "ipython",
    "version": 3
   },
   "file_extension": ".py",
   "mimetype": "text/x-python",
   "name": "python",
   "nbconvert_exporter": "python",
   "pygments_lexer": "ipython3",
   "version": "3.6.4"
  }
 },
 "nbformat": 4,
 "nbformat_minor": 2
}
