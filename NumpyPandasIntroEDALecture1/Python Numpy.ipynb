{
 "cells": [
  {
   "cell_type": "markdown",
   "metadata": {},
   "source": [
    "NumPy array is a central data structure of the numpy library (“Numeric Python”)\n",
    "It is a high-performance multidimensional array object that is a powerful data structure for efficient computation of arrays and matrices."
   ]
  },
  {
   "cell_type": "code",
   "execution_count": 1,
   "metadata": {},
   "outputs": [],
   "source": [
    "import numpy as np"
   ]
  },
  {
   "cell_type": "code",
   "execution_count": 7,
   "metadata": {},
   "outputs": [
    {
     "name": "stdout",
     "output_type": "stream",
     "text": [
      "First data pointer <memory at 0x000000000780CA08> Type of elements int32 Rows and Column Tuple (5,) Number of bytes per element (4,)\n",
      "First data pointer <memory at 0x000000000777C1F8> Type of elements int32 Rows and Column Tuple (3, 3) Number of bytes per element (12, 4)\n"
     ]
    }
   ],
   "source": [
    "# an array contains information about the raw data, how to locate an element and how to interpret an element.\n",
    "intArray = np.array([1,2,3,4,5])\n",
    "print ( \"First data pointer\",intArray.data, \"Type of elements\",intArray.dtype, \"Rows and Column Tuple\" ,intArray.shape , \n",
    "        \"Number of bytes per element\",intArray.strides)\n",
    "intArray = np.array([[1,2,3],[4,5,6],[7,8,9]])\n",
    "print ( \"First data pointer\",intArray.data, \"Type of elements\",intArray.dtype, \"Rows and Column Tuple\" ,intArray.shape , \n",
    "        \"Number of bytes per element\",intArray.strides)"
   ]
  },
  {
   "cell_type": "code",
   "execution_count": 12,
   "metadata": {},
   "outputs": [
    {
     "name": "stdout",
     "output_type": "stream",
     "text": [
      "Zero Matrix \n",
      " [[0. 0.]\n",
      " [0. 0.]] \n",
      " Ones Matrix \n",
      " [[1. 1.]\n",
      " [1. 1.]] \n",
      " Full Matrix \n",
      " [[0.35 0.35]\n",
      " [0.35 0.35]]\n"
     ]
    }
   ],
   "source": [
    "### Creating arrays by inbuilt funtions\n",
    "print( \"Zero Matrix \\n\" , np.zeros((2,2)) ,\"\\n Ones Matrix \\n\", np.ones((2,2)) , \"\\n Full Matrix \\n\",np.full((2,2) , 0.35))"
   ]
  },
  {
   "cell_type": "code",
   "execution_count": 19,
   "metadata": {},
   "outputs": [
    {
     "name": "stdout",
     "output_type": "stream",
     "text": [
      "[[0.14259711 0.95960792 0.94830958 0.45590066]\n",
      " [0.05165813 0.30619392 0.12064982 0.47004061]\n",
      " [0.05051426 0.63964934 0.3135699  0.30954122]\n",
      " [0.24110701 0.7397199  0.90502701 0.44176673]]\n"
     ]
    }
   ],
   "source": [
    "randomNumbers = np.random.random((4,4))\n",
    "print (randomNumbers) ## A Randomly Created Numpy Array"
   ]
  },
  {
   "cell_type": "code",
   "execution_count": 27,
   "metadata": {},
   "outputs": [
    {
     "name": "stdout",
     "output_type": "stream",
     "text": [
      "\n",
      " Suset \n",
      " [[0.95960792 0.94830958]\n",
      " [0.30619392 0.12064982]] \n",
      " Last  column \n",
      "  [0.45590066 0.47004061 0.30954122 0.44176673] \n",
      " Second Row \n",
      " [0.05165813 0.30619392 0.12064982 0.47004061]\n"
     ]
    }
   ],
   "source": [
    "## Slicing and Dicing arrays\n",
    "print (\"\\n Suset \\n\",randomNumbers[:2,1:3] , \"\\n Last  column \\n \" , randomNumbers[:,3] , \"\\n Second Row \\n\" , randomNumbers[1,:])"
   ]
  },
  {
   "cell_type": "code",
   "execution_count": 32,
   "metadata": {},
   "outputs": [
    {
     "name": "stdout",
     "output_type": "stream",
     "text": [
      "[[10 10 10 10]\n",
      " [10 10 10 10]\n",
      " [10 10 10 10]\n",
      " [10 10 10 10]]\n"
     ]
    }
   ],
   "source": [
    "## Converting randomNumbers to float data type\n",
    "print(randomNumbers.astype(int) + 10)\n"
   ]
  },
  {
   "cell_type": "raw",
   "metadata": {},
   "source": [
    "print(randomNumbers[,2:] + 10)"
   ]
  },
  {
   "cell_type": "code",
   "execution_count": 33,
   "metadata": {},
   "outputs": [
    {
     "name": "stdout",
     "output_type": "stream",
     "text": [
      "[[0.85740289 0.04039208 0.05169042 0.54409934]\n",
      " [0.94834187 0.69380608 0.87935018 0.52995939]\n",
      " [0.94948574 0.36035066 0.6864301  0.69045878]\n",
      " [0.75889299 0.2602801  0.09497299 0.55823327]]\n"
     ]
    }
   ],
   "source": [
    "print(1 - randomNumbers)"
   ]
  },
  {
   "cell_type": "code",
   "execution_count": null,
   "metadata": {},
   "outputs": [],
   "source": []
  }
 ],
 "metadata": {
  "kernelspec": {
   "display_name": "Python 3",
   "language": "python",
   "name": "python3"
  },
  "language_info": {
   "codemirror_mode": {
    "name": "ipython",
    "version": 3
   },
   "file_extension": ".py",
   "mimetype": "text/x-python",
   "name": "python",
   "nbconvert_exporter": "python",
   "pygments_lexer": "ipython3",
   "version": "3.6.4"
  }
 },
 "nbformat": 4,
 "nbformat_minor": 2
}
