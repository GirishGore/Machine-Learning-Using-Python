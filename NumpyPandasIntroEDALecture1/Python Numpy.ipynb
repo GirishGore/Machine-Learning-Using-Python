{
 "cells": [
  {
   "cell_type": "markdown",
   "metadata": {},
   "source": [
    "NumPy array is a central data structure of the numpy library (“Numeric Python”)\n",
    "It is a high-performance multidimensional array object that is a powerful data structure for efficient computation of arrays and matrices."
   ]
  },
  {
   "cell_type": "code",
   "execution_count": 28,
   "metadata": {},
   "outputs": [],
   "source": [
    "import numpy as np"
   ]
  },
  {
   "cell_type": "code",
   "execution_count": 31,
   "metadata": {},
   "outputs": [
    {
     "name": "stdout",
     "output_type": "stream",
     "text": [
      "First data pointer <memory at 0x000000000776C708> Type of elements int32 Rows and Column Tuple (5,) Number of bytes per element (4,) Dimension 1 Size each element (bytes) 4\n",
      "First data pointer <memory at 0x00000000077E1480> Type of elements int32 Rows and Column Tuple (3, 3) Number of bytes per element (12, 4) Dimension 2 Size each element (bytes) 4\n"
     ]
    }
   ],
   "source": [
    "# an array contains information about the raw data, how to locate an element and how to interpret an element.\n",
    "intArray = np.array([1,2,3,4,5])\n",
    "print ( \"First data pointer\",intArray.data, \"Type of elements\",intArray.dtype, \"Rows and Column Tuple\" ,intArray.shape , \n",
    "        \"Number of bytes per element\",intArray.strides, \"Dimension\", intArray.ndim , \"Size each element (bytes)\" , intArray.itemsize)\n",
    "intArray = np.array([[1,2,3],[4,5,6],[7,8,9]])\n",
    "print ( \"First data pointer\",intArray.data, \"Type of elements\",intArray.dtype, \"Rows and Column Tuple\" ,intArray.shape , \n",
    "        \"Number of bytes per element\",intArray.strides, \"Dimension\", intArray.ndim , \"Size each element (bytes)\" , intArray.itemsize)"
   ]
  },
  {
   "cell_type": "code",
   "execution_count": 4,
   "metadata": {},
   "outputs": [
    {
     "name": "stdout",
     "output_type": "stream",
     "text": [
      "Zero Matrix \n",
      " [[0. 0.]\n",
      " [0. 0.]] \n",
      " Ones Matrix \n",
      " [[1. 1.]\n",
      " [1. 1.]] \n",
      " Full Matrix \n",
      " [[0.35 0.35]\n",
      " [0.35 0.35]]\n"
     ]
    }
   ],
   "source": [
    "### Creating arrays by inbuilt funtions\n",
    "print( \"Zero Matrix \\n\" , np.zeros((2,2)) ,\"\\n Ones Matrix \\n\", np.ones((2,2)) , \"\\n Full Matrix \\n\",np.full((2,2) , 0.35))"
   ]
  },
  {
   "cell_type": "code",
   "execution_count": 5,
   "metadata": {},
   "outputs": [
    {
     "name": "stdout",
     "output_type": "stream",
     "text": [
      "[[0.38875181 0.17695549 0.13910923 0.34142063]\n",
      " [0.50311819 0.44630408 0.81787897 0.89992629]\n",
      " [0.62419932 0.94319615 0.93011053 0.84811184]\n",
      " [0.27039588 0.34289579 0.45854482 0.42147275]]\n"
     ]
    }
   ],
   "source": [
    "randomNumbers = np.random.random((4,4))\n",
    "print (randomNumbers) ## A Randomly Created Numpy Array"
   ]
  },
  {
   "cell_type": "code",
   "execution_count": 6,
   "metadata": {},
   "outputs": [
    {
     "name": "stdout",
     "output_type": "stream",
     "text": [
      "\n",
      " Suset \n",
      " [[0.17695549 0.13910923]\n",
      " [0.44630408 0.81787897]] \n",
      " Last  column \n",
      "  [0.34142063 0.89992629 0.84811184 0.42147275] \n",
      " Second Row \n",
      " [0.50311819 0.44630408 0.81787897 0.89992629]\n"
     ]
    }
   ],
   "source": [
    "## Slicing and Dicing arrays\n",
    "print (\"\\n Suset \\n\",randomNumbers[:2,1:3] , \"\\n Last  column \\n \" , randomNumbers[:,3] , \"\\n Second Row \\n\" , randomNumbers[1,:])"
   ]
  },
  {
   "cell_type": "code",
   "execution_count": 7,
   "metadata": {},
   "outputs": [
    {
     "name": "stdout",
     "output_type": "stream",
     "text": [
      "[[10 10 10 10]\n",
      " [10 10 10 10]\n",
      " [10 10 10 10]\n",
      " [10 10 10 10]]\n"
     ]
    }
   ],
   "source": [
    "## Converting randomNumbers to float data type\n",
    "print(randomNumbers.astype(int) + 10)\n"
   ]
  },
  {
   "cell_type": "raw",
   "metadata": {},
   "source": [
    "print(randomNumbers[,2:] + 10)"
   ]
  },
  {
   "cell_type": "code",
   "execution_count": 35,
   "metadata": {},
   "outputs": [
    {
     "name": "stdout",
     "output_type": "stream",
     "text": [
      "[[0.61124819 0.82304451 0.86089077 0.65857937]\n",
      " [0.49688181 0.55369592 0.18212103 0.10007371]\n",
      " [0.37580068 0.05680385 0.06988947 0.15188816]\n",
      " [0.72960412 0.65710421 0.54145518 0.57852725]]\n",
      "8.552391765116024\n",
      "[1.78646519 1.90935151 2.34564355 2.51093151]\n",
      "[1.04623716 2.66722753 3.34561783 1.49330924]\n"
     ]
    }
   ],
   "source": [
    "print(1 - randomNumbers)\n"
   ]
  },
  {
   "cell_type": "code",
   "execution_count": 11,
   "metadata": {},
   "outputs": [
    {
     "name": "stdout",
     "output_type": "stream",
     "text": [
      "Space Occupied By Lists : 14000 \n",
      "Space Occupied by similar numpy array : 2000\n"
     ]
    }
   ],
   "source": [
    "import sys\n",
    "np500 = np.arange(500)\n",
    "print(\"Space Occupied By Lists :\", sys.getsizeof(1)* len(range(500)) ,\"\\nSpace Occupied by similar numpy array :\" , np500.size * np500.itemsize)"
   ]
  },
  {
   "cell_type": "code",
   "execution_count": 27,
   "metadata": {},
   "outputs": [
    {
     "name": "stdout",
     "output_type": "stream",
     "text": [
      "8416.481494903564\n",
      "1570.0898170471191\n"
     ]
    }
   ],
   "source": [
    "import time;\n",
    "SIZE = 10000000\n",
    "list1 = range(SIZE)\n",
    "list2 = range(SIZE)\n",
    "\n",
    "stime = time.time()\n",
    "#from itertools import chain\n",
    "#result = chain(list1,list2)\n",
    "result = [(x,y) for x,y in zip(list1,list2)]\n",
    "print((time.time()-stime)* 1000)\n",
    "\n",
    "npArray1 = np.arange(SIZE)\n",
    "npArray2 = np.arange(SIZE)\n",
    "\n",
    "stime = time.time()\n",
    "result = npArray1 + npArray2\n",
    "print((time.time()-stime)* 1000)"
   ]
  },
  {
   "cell_type": "code",
   "execution_count": 40,
   "metadata": {},
   "outputs": [
    {
     "name": "stdout",
     "output_type": "stream",
     "text": [
      "21\n",
      "[5 7 9]\n",
      "[ 6 15]\n",
      "[[1.         1.41421356 1.73205081]\n",
      " [2.         2.23606798 2.44948974]]\n"
     ]
    }
   ],
   "source": [
    "numbers = np.array([(1,2,3),(4,5,6)])\n",
    "print(numbers.sum())\n",
    "print(numbers.sum(axis=0))\n",
    "print(numbers.sum(axis=1))\n",
    "print(np.sqrt(numbers))"
   ]
  },
  {
   "cell_type": "code",
   "execution_count": null,
   "metadata": {},
   "outputs": [],
   "source": []
  }
 ],
 "metadata": {
  "kernelspec": {
   "display_name": "Python 3",
   "language": "python",
   "name": "python3"
  },
  "language_info": {
   "codemirror_mode": {
    "name": "ipython",
    "version": 3
   },
   "file_extension": ".py",
   "mimetype": "text/x-python",
   "name": "python",
   "nbconvert_exporter": "python",
   "pygments_lexer": "ipython3",
   "version": "3.6.4"
  }
 },
 "nbformat": 4,
 "nbformat_minor": 2
}
