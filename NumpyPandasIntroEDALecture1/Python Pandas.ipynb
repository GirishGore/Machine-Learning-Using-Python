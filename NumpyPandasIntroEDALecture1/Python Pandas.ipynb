{
 "cells": [
  {
   "cell_type": "markdown",
   "metadata": {},
   "source": [
    "Pandas is a data-centric python library build on top of numpy and matplotlib to give a single convienient place to do most of your data analysis and visualization work."
   ]
  },
  {
   "cell_type": "markdown",
   "metadata": {},
   "source": [
    "# Object Creation in Pandas"
   ]
  },
  {
   "cell_type": "code",
   "execution_count": 42,
   "metadata": {},
   "outputs": [],
   "source": [
    "import pandas as pd"
   ]
  },
  {
   "cell_type": "markdown",
   "metadata": {},
   "source": [
    "There are multiple ways of dataframe creation on python.\n",
    "Some of the common ways are\n",
    "1. From NumpyArrays\n",
    "2. From Dictionaries\n",
    "3. From Files"
   ]
  },
  {
   "cell_type": "code",
   "execution_count": 43,
   "metadata": {},
   "outputs": [
    {
     "name": "stdout",
     "output_type": "stream",
     "text": [
      "  Col 1 Col 2\n",
      "1     2     3\n",
      "4     5     6 \n",
      " Shape of the dataframe (2, 2)\n"
     ]
    }
   ],
   "source": [
    "## Creating Pandas Dataframes from NumpyArrays\n",
    "import numpy as np\n",
    "mydata = np.array([[\" \",\"Col 1\",\"Col 2\"],[1,2,3],[4,5,6]])\n",
    "df_nparray = pd.DataFrame(data=mydata[1:,1:],index=mydata[1:,0],columns=mydata[0,1:])\n",
    "print(df_nparray , \"\\n Shape of the dataframe\" , df_nparray.shape)\n",
    "\n"
   ]
  },
  {
   "cell_type": "code",
   "execution_count": 44,
   "metadata": {},
   "outputs": [
    {
     "name": "stdout",
     "output_type": "stream",
     "text": [
      "   Col 1  Col 2  Col 3\n",
      "0      1      2      3\n",
      "1      4      5      6 \n",
      " Shape of the dataframe (2, 3)\n"
     ]
    }
   ],
   "source": [
    "#Creating Pandas Dataframes from Dictionaries\n",
    "df_dict = pd.DataFrame(data = ({'Col 1' : [1,4] , 'Col 2' : [2,5] , 'Col 3': [3,6]}))  \n",
    "print(df_dict , \"\\n Shape of the dataframe\" , df_dict.shape)\n",
    "                                "
   ]
  },
  {
   "cell_type": "code",
   "execution_count": 45,
   "metadata": {},
   "outputs": [
    {
     "name": "stdout",
     "output_type": "stream",
     "text": [
      "                              Country         Region\n",
      "0                             Algeria         AFRICA\n",
      "1                              Angola         AFRICA\n",
      "2                               Benin         AFRICA\n",
      "3                            Botswana         AFRICA\n",
      "4                             Burkina         AFRICA\n",
      "5                             Burundi         AFRICA\n",
      "6                            Cameroon         AFRICA\n",
      "7                          Cape Verde         AFRICA\n",
      "8            Central African Republic         AFRICA\n",
      "9                                Chad         AFRICA\n",
      "10                            Comoros         AFRICA\n",
      "11                              Congo         AFRICA\n",
      "12      Congo, Democratic Republic of         AFRICA\n",
      "13                           Djibouti         AFRICA\n",
      "14                              Egypt         AFRICA\n",
      "15                  Equatorial Guinea         AFRICA\n",
      "16                            Eritrea         AFRICA\n",
      "17                           Ethiopia         AFRICA\n",
      "18                              Gabon         AFRICA\n",
      "19                             Gambia         AFRICA\n",
      "20                              Ghana         AFRICA\n",
      "21                             Guinea         AFRICA\n",
      "22                      Guinea-Bissau         AFRICA\n",
      "23                        Ivory Coast         AFRICA\n",
      "24                              Kenya         AFRICA\n",
      "25                            Lesotho         AFRICA\n",
      "26                            Liberia         AFRICA\n",
      "27                              Libya         AFRICA\n",
      "28                         Madagascar         AFRICA\n",
      "29                             Malawi         AFRICA\n",
      "..                                ...            ...\n",
      "164                       Saint Lucia  NORTH AMERICA\n",
      "165  Saint Vincent and the Grenadines  NORTH AMERICA\n",
      "166               Trinidad and Tobago  NORTH AMERICA\n",
      "167                     United States  NORTH AMERICA\n",
      "168                         Australia        OCEANIA\n",
      "169                              Fiji        OCEANIA\n",
      "170                          Kiribati        OCEANIA\n",
      "171                  Marshall Islands        OCEANIA\n",
      "172                        Micronesia        OCEANIA\n",
      "173                             Nauru        OCEANIA\n",
      "174                       New Zealand        OCEANIA\n",
      "175                             Palau        OCEANIA\n",
      "176                  Papua New Guinea        OCEANIA\n",
      "177                             Samoa        OCEANIA\n",
      "178                   Solomon Islands        OCEANIA\n",
      "179                             Tonga        OCEANIA\n",
      "180                            Tuvalu        OCEANIA\n",
      "181                           Vanuatu        OCEANIA\n",
      "182                         Argentina  SOUTH AMERICA\n",
      "183                           Bolivia  SOUTH AMERICA\n",
      "184                            Brazil  SOUTH AMERICA\n",
      "185                             Chile  SOUTH AMERICA\n",
      "186                          Colombia  SOUTH AMERICA\n",
      "187                           Ecuador  SOUTH AMERICA\n",
      "188                            Guyana  SOUTH AMERICA\n",
      "189                          Paraguay  SOUTH AMERICA\n",
      "190                              Peru  SOUTH AMERICA\n",
      "191                          Suriname  SOUTH AMERICA\n",
      "192                           Uruguay  SOUTH AMERICA\n",
      "193                         Venezuela  SOUTH AMERICA\n",
      "\n",
      "[194 rows x 2 columns] \n",
      " Shape of the dataframe (194, 2)\n"
     ]
    }
   ],
   "source": [
    "url=\"https://raw.githubusercontent.com/cs109/2014_data/master/countries.csv\"\n",
    "df_url=pd.read_csv(url)\n",
    "print(df_url , \"\\n Shape of the dataframe\" , df_url.shape)\n"
   ]
  },
  {
   "cell_type": "code",
   "execution_count": 46,
   "metadata": {},
   "outputs": [
    {
     "data": {
      "text/html": [
       "<div>\n",
       "<style scoped>\n",
       "    .dataframe tbody tr th:only-of-type {\n",
       "        vertical-align: middle;\n",
       "    }\n",
       "\n",
       "    .dataframe tbody tr th {\n",
       "        vertical-align: top;\n",
       "    }\n",
       "\n",
       "    .dataframe thead th {\n",
       "        text-align: right;\n",
       "    }\n",
       "</style>\n",
       "<table border=\"1\" class=\"dataframe\">\n",
       "  <thead>\n",
       "    <tr style=\"text-align: right;\">\n",
       "      <th></th>\n",
       "      <th>Country</th>\n",
       "      <th>Region</th>\n",
       "    </tr>\n",
       "  </thead>\n",
       "  <tbody>\n",
       "    <tr>\n",
       "      <th>0</th>\n",
       "      <td>Algeria</td>\n",
       "      <td>AFRICA</td>\n",
       "    </tr>\n",
       "    <tr>\n",
       "      <th>1</th>\n",
       "      <td>Angola</td>\n",
       "      <td>AFRICA</td>\n",
       "    </tr>\n",
       "    <tr>\n",
       "      <th>2</th>\n",
       "      <td>Benin</td>\n",
       "      <td>AFRICA</td>\n",
       "    </tr>\n",
       "    <tr>\n",
       "      <th>3</th>\n",
       "      <td>Botswana</td>\n",
       "      <td>AFRICA</td>\n",
       "    </tr>\n",
       "    <tr>\n",
       "      <th>4</th>\n",
       "      <td>Burkina</td>\n",
       "      <td>AFRICA</td>\n",
       "    </tr>\n",
       "  </tbody>\n",
       "</table>\n",
       "</div>"
      ],
      "text/plain": [
       "    Country  Region\n",
       "0   Algeria  AFRICA\n",
       "1    Angola  AFRICA\n",
       "2     Benin  AFRICA\n",
       "3  Botswana  AFRICA\n",
       "4   Burkina  AFRICA"
      ]
     },
     "execution_count": 46,
     "metadata": {},
     "output_type": "execute_result"
    }
   ],
   "source": [
    "df_url.head(5)\n"
   ]
  },
  {
   "cell_type": "code",
   "execution_count": 47,
   "metadata": {},
   "outputs": [
    {
     "data": {
      "text/html": [
       "<div>\n",
       "<style scoped>\n",
       "    .dataframe tbody tr th:only-of-type {\n",
       "        vertical-align: middle;\n",
       "    }\n",
       "\n",
       "    .dataframe tbody tr th {\n",
       "        vertical-align: top;\n",
       "    }\n",
       "\n",
       "    .dataframe thead th {\n",
       "        text-align: right;\n",
       "    }\n",
       "</style>\n",
       "<table border=\"1\" class=\"dataframe\">\n",
       "  <thead>\n",
       "    <tr style=\"text-align: right;\">\n",
       "      <th></th>\n",
       "      <th>Country</th>\n",
       "      <th>Region</th>\n",
       "    </tr>\n",
       "  </thead>\n",
       "  <tbody>\n",
       "    <tr>\n",
       "      <th>189</th>\n",
       "      <td>Paraguay</td>\n",
       "      <td>SOUTH AMERICA</td>\n",
       "    </tr>\n",
       "    <tr>\n",
       "      <th>190</th>\n",
       "      <td>Peru</td>\n",
       "      <td>SOUTH AMERICA</td>\n",
       "    </tr>\n",
       "    <tr>\n",
       "      <th>191</th>\n",
       "      <td>Suriname</td>\n",
       "      <td>SOUTH AMERICA</td>\n",
       "    </tr>\n",
       "    <tr>\n",
       "      <th>192</th>\n",
       "      <td>Uruguay</td>\n",
       "      <td>SOUTH AMERICA</td>\n",
       "    </tr>\n",
       "    <tr>\n",
       "      <th>193</th>\n",
       "      <td>Venezuela</td>\n",
       "      <td>SOUTH AMERICA</td>\n",
       "    </tr>\n",
       "  </tbody>\n",
       "</table>\n",
       "</div>"
      ],
      "text/plain": [
       "       Country         Region\n",
       "189   Paraguay  SOUTH AMERICA\n",
       "190       Peru  SOUTH AMERICA\n",
       "191   Suriname  SOUTH AMERICA\n",
       "192    Uruguay  SOUTH AMERICA\n",
       "193  Venezuela  SOUTH AMERICA"
      ]
     },
     "execution_count": 47,
     "metadata": {},
     "output_type": "execute_result"
    }
   ],
   "source": [
    "df_url.tail(5)"
   ]
  },
  {
   "cell_type": "code",
   "execution_count": 48,
   "metadata": {},
   "outputs": [
    {
     "data": {
      "text/plain": [
       "array([['Algeria', 'AFRICA'],\n",
       "       ['Angola', 'AFRICA'],\n",
       "       ['Benin', 'AFRICA'],\n",
       "       ['Botswana', 'AFRICA'],\n",
       "       ['Burkina', 'AFRICA'],\n",
       "       ['Burundi', 'AFRICA'],\n",
       "       ['Cameroon', 'AFRICA'],\n",
       "       ['Cape Verde', 'AFRICA'],\n",
       "       ['Central African Republic', 'AFRICA'],\n",
       "       ['Chad', 'AFRICA'],\n",
       "       ['Comoros', 'AFRICA'],\n",
       "       ['Congo', 'AFRICA'],\n",
       "       ['Congo, Democratic Republic of', 'AFRICA'],\n",
       "       ['Djibouti', 'AFRICA'],\n",
       "       ['Egypt', 'AFRICA'],\n",
       "       ['Equatorial Guinea', 'AFRICA'],\n",
       "       ['Eritrea', 'AFRICA'],\n",
       "       ['Ethiopia', 'AFRICA'],\n",
       "       ['Gabon', 'AFRICA'],\n",
       "       ['Gambia', 'AFRICA'],\n",
       "       ['Ghana', 'AFRICA'],\n",
       "       ['Guinea', 'AFRICA'],\n",
       "       ['Guinea-Bissau', 'AFRICA'],\n",
       "       ['Ivory Coast', 'AFRICA'],\n",
       "       ['Kenya', 'AFRICA'],\n",
       "       ['Lesotho', 'AFRICA'],\n",
       "       ['Liberia', 'AFRICA'],\n",
       "       ['Libya', 'AFRICA'],\n",
       "       ['Madagascar', 'AFRICA'],\n",
       "       ['Malawi', 'AFRICA'],\n",
       "       ['Mali', 'AFRICA'],\n",
       "       ['Mauritania', 'AFRICA'],\n",
       "       ['Mauritius', 'AFRICA'],\n",
       "       ['Morocco', 'AFRICA'],\n",
       "       ['Mozambique', 'AFRICA'],\n",
       "       ['Namibia', 'AFRICA'],\n",
       "       ['Niger', 'AFRICA'],\n",
       "       ['Nigeria', 'AFRICA'],\n",
       "       ['Rwanda', 'AFRICA'],\n",
       "       ['Sao Tome and Principe', 'AFRICA'],\n",
       "       ['Senegal', 'AFRICA'],\n",
       "       ['Seychelles', 'AFRICA'],\n",
       "       ['Sierra Leone', 'AFRICA'],\n",
       "       ['Somalia', 'AFRICA'],\n",
       "       ['South Africa', 'AFRICA'],\n",
       "       ['South Sudan', 'AFRICA'],\n",
       "       ['Sudan', 'AFRICA'],\n",
       "       ['Swaziland', 'AFRICA'],\n",
       "       ['Tanzania', 'AFRICA'],\n",
       "       ['Togo', 'AFRICA'],\n",
       "       ['Tunisia', 'AFRICA'],\n",
       "       ['Uganda', 'AFRICA'],\n",
       "       ['Zambia', 'AFRICA'],\n",
       "       ['Zimbabwe', 'AFRICA'],\n",
       "       ['Afghanistan', 'ASIA'],\n",
       "       ['Bahrain', 'ASIA'],\n",
       "       ['Bangladesh', 'ASIA'],\n",
       "       ['Bhutan', 'ASIA'],\n",
       "       ['Brunei', 'ASIA'],\n",
       "       ['Burma', 'ASIA'],\n",
       "       ['Cambodia', 'ASIA'],\n",
       "       ['China', 'ASIA'],\n",
       "       ['East Timor', 'ASIA'],\n",
       "       ['India', 'ASIA'],\n",
       "       ['Indonesia', 'ASIA'],\n",
       "       ['Iran', 'ASIA'],\n",
       "       ['Iraq', 'ASIA'],\n",
       "       ['Israel', 'ASIA'],\n",
       "       ['Japan', 'ASIA'],\n",
       "       ['Jordan', 'ASIA'],\n",
       "       ['Kazakhstan', 'ASIA'],\n",
       "       ['Korea, North', 'ASIA'],\n",
       "       ['Korea, South', 'ASIA'],\n",
       "       ['Kuwait', 'ASIA'],\n",
       "       ['Kyrgyzstan', 'ASIA'],\n",
       "       ['Laos', 'ASIA'],\n",
       "       ['Lebanon', 'ASIA'],\n",
       "       ['Malaysia', 'ASIA'],\n",
       "       ['Maldives', 'ASIA'],\n",
       "       ['Mongolia', 'ASIA'],\n",
       "       ['Nepal', 'ASIA'],\n",
       "       ['Oman', 'ASIA'],\n",
       "       ['Pakistan', 'ASIA'],\n",
       "       ['Philippines', 'ASIA'],\n",
       "       ['Qatar', 'ASIA'],\n",
       "       ['Russian Federation', 'ASIA'],\n",
       "       ['Saudi Arabia', 'ASIA'],\n",
       "       ['Singapore', 'ASIA'],\n",
       "       ['Sri Lanka', 'ASIA'],\n",
       "       ['Syria', 'ASIA'],\n",
       "       ['Tajikistan', 'ASIA'],\n",
       "       ['Thailand', 'ASIA'],\n",
       "       ['Turkey', 'ASIA'],\n",
       "       ['Turkmenistan', 'ASIA'],\n",
       "       ['United Arab Emirates', 'ASIA'],\n",
       "       ['Uzbekistan', 'ASIA'],\n",
       "       ['Vietnam', 'ASIA'],\n",
       "       ['Yemen', 'ASIA'],\n",
       "       ['Albania', 'EUROPE'],\n",
       "       ['Andorra', 'EUROPE'],\n",
       "       ['Armenia', 'EUROPE'],\n",
       "       ['Austria', 'EUROPE'],\n",
       "       ['Azerbaijan', 'EUROPE'],\n",
       "       ['Belarus', 'EUROPE'],\n",
       "       ['Belgium', 'EUROPE'],\n",
       "       ['Bosnia and Herzegovina', 'EUROPE'],\n",
       "       ['Bulgaria', 'EUROPE'],\n",
       "       ['Croatia', 'EUROPE'],\n",
       "       ['Cyprus', 'EUROPE'],\n",
       "       ['Czech Republic', 'EUROPE'],\n",
       "       ['Denmark', 'EUROPE'],\n",
       "       ['Estonia', 'EUROPE'],\n",
       "       ['Finland', 'EUROPE'],\n",
       "       ['France', 'EUROPE'],\n",
       "       ['Georgia', 'EUROPE'],\n",
       "       ['Germany', 'EUROPE'],\n",
       "       ['Greece', 'EUROPE'],\n",
       "       ['Hungary', 'EUROPE'],\n",
       "       ['Iceland', 'EUROPE'],\n",
       "       ['Ireland', 'EUROPE'],\n",
       "       ['Italy', 'EUROPE'],\n",
       "       ['Latvia', 'EUROPE'],\n",
       "       ['Liechtenstein', 'EUROPE'],\n",
       "       ['Lithuania', 'EUROPE'],\n",
       "       ['Luxembourg', 'EUROPE'],\n",
       "       ['Macedonia', 'EUROPE'],\n",
       "       ['Malta', 'EUROPE'],\n",
       "       ['Moldova', 'EUROPE'],\n",
       "       ['Monaco', 'EUROPE'],\n",
       "       ['Montenegro', 'EUROPE'],\n",
       "       ['Netherlands', 'EUROPE'],\n",
       "       ['Norway', 'EUROPE'],\n",
       "       ['Poland', 'EUROPE'],\n",
       "       ['Portugal', 'EUROPE'],\n",
       "       ['Romania', 'EUROPE'],\n",
       "       ['San Marino', 'EUROPE'],\n",
       "       ['Serbia', 'EUROPE'],\n",
       "       ['Slovakia', 'EUROPE'],\n",
       "       ['Slovenia', 'EUROPE'],\n",
       "       ['Spain', 'EUROPE'],\n",
       "       ['Sweden', 'EUROPE'],\n",
       "       ['Switzerland', 'EUROPE'],\n",
       "       ['Ukraine', 'EUROPE'],\n",
       "       ['United Kingdom', 'EUROPE'],\n",
       "       ['Vatican City', 'EUROPE'],\n",
       "       ['Antigua and Barbuda', 'NORTH AMERICA'],\n",
       "       ['Bahamas', 'NORTH AMERICA'],\n",
       "       ['Barbados', 'NORTH AMERICA'],\n",
       "       ['Belize', 'NORTH AMERICA'],\n",
       "       ['Canada', 'NORTH AMERICA'],\n",
       "       ['Costa Rica', 'NORTH AMERICA'],\n",
       "       ['Cuba', 'NORTH AMERICA'],\n",
       "       ['Dominica', 'NORTH AMERICA'],\n",
       "       ['Dominican Republic', 'NORTH AMERICA'],\n",
       "       ['El Salvador', 'NORTH AMERICA'],\n",
       "       ['Grenada', 'NORTH AMERICA'],\n",
       "       ['Guatemala', 'NORTH AMERICA'],\n",
       "       ['Haiti', 'NORTH AMERICA'],\n",
       "       ['Honduras', 'NORTH AMERICA'],\n",
       "       ['Jamaica', 'NORTH AMERICA'],\n",
       "       ['Mexico', 'NORTH AMERICA'],\n",
       "       ['Nicaragua', 'NORTH AMERICA'],\n",
       "       ['Panama', 'NORTH AMERICA'],\n",
       "       ['Saint Kitts and Nevis', 'NORTH AMERICA'],\n",
       "       ['Saint Lucia', 'NORTH AMERICA'],\n",
       "       ['Saint Vincent and the Grenadines', 'NORTH AMERICA'],\n",
       "       ['Trinidad and Tobago', 'NORTH AMERICA'],\n",
       "       ['United States', 'NORTH AMERICA'],\n",
       "       ['Australia', 'OCEANIA'],\n",
       "       ['Fiji', 'OCEANIA'],\n",
       "       ['Kiribati', 'OCEANIA'],\n",
       "       ['Marshall Islands', 'OCEANIA'],\n",
       "       ['Micronesia', 'OCEANIA'],\n",
       "       ['Nauru', 'OCEANIA'],\n",
       "       ['New Zealand', 'OCEANIA'],\n",
       "       ['Palau', 'OCEANIA'],\n",
       "       ['Papua New Guinea', 'OCEANIA'],\n",
       "       ['Samoa', 'OCEANIA'],\n",
       "       ['Solomon Islands', 'OCEANIA'],\n",
       "       ['Tonga', 'OCEANIA'],\n",
       "       ['Tuvalu', 'OCEANIA'],\n",
       "       ['Vanuatu', 'OCEANIA'],\n",
       "       ['Argentina', 'SOUTH AMERICA'],\n",
       "       ['Bolivia', 'SOUTH AMERICA'],\n",
       "       ['Brazil', 'SOUTH AMERICA'],\n",
       "       ['Chile', 'SOUTH AMERICA'],\n",
       "       ['Colombia', 'SOUTH AMERICA'],\n",
       "       ['Ecuador', 'SOUTH AMERICA'],\n",
       "       ['Guyana', 'SOUTH AMERICA'],\n",
       "       ['Paraguay', 'SOUTH AMERICA'],\n",
       "       ['Peru', 'SOUTH AMERICA'],\n",
       "       ['Suriname', 'SOUTH AMERICA'],\n",
       "       ['Uruguay', 'SOUTH AMERICA'],\n",
       "       ['Venezuela', 'SOUTH AMERICA']], dtype=object)"
      ]
     },
     "execution_count": 48,
     "metadata": {},
     "output_type": "execute_result"
    }
   ],
   "source": [
    "df_url.values"
   ]
  },
  {
   "cell_type": "code",
   "execution_count": 49,
   "metadata": {},
   "outputs": [
    {
     "data": {
      "text/plain": [
       "Index(['Country', 'Region'], dtype='object')"
      ]
     },
     "execution_count": 49,
     "metadata": {},
     "output_type": "execute_result"
    }
   ],
   "source": [
    "df_url.columns"
   ]
  },
  {
   "cell_type": "code",
   "execution_count": 50,
   "metadata": {},
   "outputs": [
    {
     "data": {
      "text/plain": [
       "RangeIndex(start=0, stop=194, step=1)"
      ]
     },
     "execution_count": 50,
     "metadata": {},
     "output_type": "execute_result"
    }
   ],
   "source": [
    "df_url.index"
   ]
  },
  {
   "cell_type": "code",
   "execution_count": 51,
   "metadata": {},
   "outputs": [
    {
     "data": {
      "text/plain": [
       "Country    194\n",
       "Region     194\n",
       "dtype: int64"
      ]
     },
     "execution_count": 51,
     "metadata": {},
     "output_type": "execute_result"
    }
   ],
   "source": [
    "df_url.count()"
   ]
  },
  {
   "cell_type": "code",
   "execution_count": 52,
   "metadata": {},
   "outputs": [
    {
     "data": {
      "text/html": [
       "<div>\n",
       "<style scoped>\n",
       "    .dataframe tbody tr th:only-of-type {\n",
       "        vertical-align: middle;\n",
       "    }\n",
       "\n",
       "    .dataframe tbody tr th {\n",
       "        vertical-align: top;\n",
       "    }\n",
       "\n",
       "    .dataframe thead th {\n",
       "        text-align: right;\n",
       "    }\n",
       "</style>\n",
       "<table border=\"1\" class=\"dataframe\">\n",
       "  <thead>\n",
       "    <tr style=\"text-align: right;\">\n",
       "      <th></th>\n",
       "      <th>Country</th>\n",
       "      <th>Region</th>\n",
       "    </tr>\n",
       "  </thead>\n",
       "  <tbody>\n",
       "    <tr>\n",
       "      <th>count</th>\n",
       "      <td>194</td>\n",
       "      <td>194</td>\n",
       "    </tr>\n",
       "    <tr>\n",
       "      <th>unique</th>\n",
       "      <td>194</td>\n",
       "      <td>6</td>\n",
       "    </tr>\n",
       "    <tr>\n",
       "      <th>top</th>\n",
       "      <td>Slovenia</td>\n",
       "      <td>AFRICA</td>\n",
       "    </tr>\n",
       "    <tr>\n",
       "      <th>freq</th>\n",
       "      <td>1</td>\n",
       "      <td>54</td>\n",
       "    </tr>\n",
       "  </tbody>\n",
       "</table>\n",
       "</div>"
      ],
      "text/plain": [
       "         Country  Region\n",
       "count        194     194\n",
       "unique       194       6\n",
       "top     Slovenia  AFRICA\n",
       "freq           1      54"
      ]
     },
     "execution_count": 52,
     "metadata": {},
     "output_type": "execute_result"
    }
   ],
   "source": [
    "df_url.describe()"
   ]
  },
  {
   "cell_type": "code",
   "execution_count": 53,
   "metadata": {},
   "outputs": [
    {
     "data": {
      "text/html": [
       "<div>\n",
       "<style scoped>\n",
       "    .dataframe tbody tr th:only-of-type {\n",
       "        vertical-align: middle;\n",
       "    }\n",
       "\n",
       "    .dataframe tbody tr th {\n",
       "        vertical-align: top;\n",
       "    }\n",
       "\n",
       "    .dataframe thead th {\n",
       "        text-align: right;\n",
       "    }\n",
       "</style>\n",
       "<table border=\"1\" class=\"dataframe\">\n",
       "  <thead>\n",
       "    <tr style=\"text-align: right;\">\n",
       "      <th></th>\n",
       "      <th>Col 1</th>\n",
       "      <th>Col 2</th>\n",
       "      <th>Col 3</th>\n",
       "    </tr>\n",
       "  </thead>\n",
       "  <tbody>\n",
       "    <tr>\n",
       "      <th>count</th>\n",
       "      <td>2.00000</td>\n",
       "      <td>2.00000</td>\n",
       "      <td>2.00000</td>\n",
       "    </tr>\n",
       "    <tr>\n",
       "      <th>mean</th>\n",
       "      <td>2.50000</td>\n",
       "      <td>3.50000</td>\n",
       "      <td>4.50000</td>\n",
       "    </tr>\n",
       "    <tr>\n",
       "      <th>std</th>\n",
       "      <td>2.12132</td>\n",
       "      <td>2.12132</td>\n",
       "      <td>2.12132</td>\n",
       "    </tr>\n",
       "    <tr>\n",
       "      <th>min</th>\n",
       "      <td>1.00000</td>\n",
       "      <td>2.00000</td>\n",
       "      <td>3.00000</td>\n",
       "    </tr>\n",
       "    <tr>\n",
       "      <th>25%</th>\n",
       "      <td>1.75000</td>\n",
       "      <td>2.75000</td>\n",
       "      <td>3.75000</td>\n",
       "    </tr>\n",
       "    <tr>\n",
       "      <th>50%</th>\n",
       "      <td>2.50000</td>\n",
       "      <td>3.50000</td>\n",
       "      <td>4.50000</td>\n",
       "    </tr>\n",
       "    <tr>\n",
       "      <th>75%</th>\n",
       "      <td>3.25000</td>\n",
       "      <td>4.25000</td>\n",
       "      <td>5.25000</td>\n",
       "    </tr>\n",
       "    <tr>\n",
       "      <th>max</th>\n",
       "      <td>4.00000</td>\n",
       "      <td>5.00000</td>\n",
       "      <td>6.00000</td>\n",
       "    </tr>\n",
       "  </tbody>\n",
       "</table>\n",
       "</div>"
      ],
      "text/plain": [
       "         Col 1    Col 2    Col 3\n",
       "count  2.00000  2.00000  2.00000\n",
       "mean   2.50000  3.50000  4.50000\n",
       "std    2.12132  2.12132  2.12132\n",
       "min    1.00000  2.00000  3.00000\n",
       "25%    1.75000  2.75000  3.75000\n",
       "50%    2.50000  3.50000  4.50000\n",
       "75%    3.25000  4.25000  5.25000\n",
       "max    4.00000  5.00000  6.00000"
      ]
     },
     "execution_count": 53,
     "metadata": {},
     "output_type": "execute_result"
    }
   ],
   "source": [
    "df_dict.describe()"
   ]
  },
  {
   "cell_type": "markdown",
   "metadata": {},
   "source": [
    "# Data Manipulation "
   ]
  },
  {
   "cell_type": "code",
   "execution_count": null,
   "metadata": {},
   "outputs": [],
   "source": []
  },
  {
   "cell_type": "code",
   "execution_count": 54,
   "metadata": {},
   "outputs": [
    {
     "data": {
      "text/html": [
       "<div>\n",
       "<style scoped>\n",
       "    .dataframe tbody tr th:only-of-type {\n",
       "        vertical-align: middle;\n",
       "    }\n",
       "\n",
       "    .dataframe tbody tr th {\n",
       "        vertical-align: top;\n",
       "    }\n",
       "\n",
       "    .dataframe thead th {\n",
       "        text-align: right;\n",
       "    }\n",
       "</style>\n",
       "<table border=\"1\" class=\"dataframe\">\n",
       "  <thead>\n",
       "    <tr style=\"text-align: right;\">\n",
       "      <th></th>\n",
       "      <th>Country</th>\n",
       "      <th>Region</th>\n",
       "    </tr>\n",
       "  </thead>\n",
       "  <tbody>\n",
       "    <tr>\n",
       "      <th>0</th>\n",
       "      <td>Algeria</td>\n",
       "      <td>AFRICA</td>\n",
       "    </tr>\n",
       "    <tr>\n",
       "      <th>1</th>\n",
       "      <td>Angola</td>\n",
       "      <td>AFRICA</td>\n",
       "    </tr>\n",
       "    <tr>\n",
       "      <th>2</th>\n",
       "      <td>Benin</td>\n",
       "      <td>AFRICA</td>\n",
       "    </tr>\n",
       "  </tbody>\n",
       "</table>\n",
       "</div>"
      ],
      "text/plain": [
       "   Country  Region\n",
       "0  Algeria  AFRICA\n",
       "1   Angola  AFRICA\n",
       "2    Benin  AFRICA"
      ]
     },
     "execution_count": 54,
     "metadata": {},
     "output_type": "execute_result"
    }
   ],
   "source": [
    "df_url['Region'].describe()\n",
    "df_url.head(3)"
   ]
  },
  {
   "cell_type": "markdown",
   "metadata": {},
   "source": [
    "# Indexing"
   ]
  },
  {
   "cell_type": "code",
   "execution_count": 96,
   "metadata": {},
   "outputs": [],
   "source": [
    "\n",
    "newDataFrame =pd.DataFrame({'RollNo' : [1,2,3,4,4] ,\n",
    "                             'Name' : ['Jayesh','Amresh','Abhijit','Mandar','Kedar'],\n",
    "                             'Stream' : ['Web Development' ,'Mobile Development' , 'Project Management' , 'Management' , 'Software Development']})\n"
   ]
  },
  {
   "cell_type": "code",
   "execution_count": 97,
   "metadata": {},
   "outputs": [
    {
     "data": {
      "text/plain": [
       "Index(['Name', 'RollNo', 'Stream'], dtype='object')"
      ]
     },
     "execution_count": 97,
     "metadata": {},
     "output_type": "execute_result"
    }
   ],
   "source": [
    "newDataFrame.columns"
   ]
  },
  {
   "cell_type": "code",
   "execution_count": 98,
   "metadata": {},
   "outputs": [
    {
     "name": "stdout",
     "output_type": "stream",
     "text": [
      "<class 'pandas.core.frame.DataFrame'>\n",
      "RangeIndex: 5 entries, 0 to 4\n",
      "Data columns (total 3 columns):\n",
      "Name      5 non-null object\n",
      "RollNo    5 non-null int64\n",
      "Stream    5 non-null object\n",
      "dtypes: int64(1), object(2)\n",
      "memory usage: 200.0+ bytes\n"
     ]
    }
   ],
   "source": [
    "newDataFrame.info()"
   ]
  },
  {
   "cell_type": "code",
   "execution_count": 99,
   "metadata": {},
   "outputs": [],
   "source": [
    "newDataFrame.index.name = 'Numeric Index'"
   ]
  },
  {
   "cell_type": "code",
   "execution_count": 100,
   "metadata": {},
   "outputs": [
    {
     "data": {
      "text/html": [
       "<div>\n",
       "<style scoped>\n",
       "    .dataframe tbody tr th:only-of-type {\n",
       "        vertical-align: middle;\n",
       "    }\n",
       "\n",
       "    .dataframe tbody tr th {\n",
       "        vertical-align: top;\n",
       "    }\n",
       "\n",
       "    .dataframe thead th {\n",
       "        text-align: right;\n",
       "    }\n",
       "</style>\n",
       "<table border=\"1\" class=\"dataframe\">\n",
       "  <thead>\n",
       "    <tr style=\"text-align: right;\">\n",
       "      <th></th>\n",
       "      <th>Name</th>\n",
       "      <th>RollNo</th>\n",
       "      <th>Stream</th>\n",
       "    </tr>\n",
       "    <tr>\n",
       "      <th>Numeric Index</th>\n",
       "      <th></th>\n",
       "      <th></th>\n",
       "      <th></th>\n",
       "    </tr>\n",
       "  </thead>\n",
       "  <tbody>\n",
       "    <tr>\n",
       "      <th>0</th>\n",
       "      <td>Jayesh</td>\n",
       "      <td>1</td>\n",
       "      <td>Web Development</td>\n",
       "    </tr>\n",
       "    <tr>\n",
       "      <th>1</th>\n",
       "      <td>Amresh</td>\n",
       "      <td>2</td>\n",
       "      <td>Mobile Development</td>\n",
       "    </tr>\n",
       "    <tr>\n",
       "      <th>2</th>\n",
       "      <td>Abhijit</td>\n",
       "      <td>3</td>\n",
       "      <td>Project Management</td>\n",
       "    </tr>\n",
       "    <tr>\n",
       "      <th>3</th>\n",
       "      <td>Mandar</td>\n",
       "      <td>4</td>\n",
       "      <td>Management</td>\n",
       "    </tr>\n",
       "    <tr>\n",
       "      <th>4</th>\n",
       "      <td>Kedar</td>\n",
       "      <td>4</td>\n",
       "      <td>Software Development</td>\n",
       "    </tr>\n",
       "  </tbody>\n",
       "</table>\n",
       "</div>"
      ],
      "text/plain": [
       "                  Name  RollNo                Stream\n",
       "Numeric Index                                       \n",
       "0               Jayesh       1       Web Development\n",
       "1               Amresh       2    Mobile Development\n",
       "2              Abhijit       3    Project Management\n",
       "3               Mandar       4            Management\n",
       "4                Kedar       4  Software Development"
      ]
     },
     "execution_count": 100,
     "metadata": {},
     "output_type": "execute_result"
    }
   ],
   "source": [
    "newDataFrame.head()"
   ]
  },
  {
   "cell_type": "code",
   "execution_count": 101,
   "metadata": {},
   "outputs": [
    {
     "data": {
      "text/html": [
       "<div>\n",
       "<style scoped>\n",
       "    .dataframe tbody tr th:only-of-type {\n",
       "        vertical-align: middle;\n",
       "    }\n",
       "\n",
       "    .dataframe tbody tr th {\n",
       "        vertical-align: top;\n",
       "    }\n",
       "\n",
       "    .dataframe thead th {\n",
       "        text-align: right;\n",
       "    }\n",
       "</style>\n",
       "<table border=\"1\" class=\"dataframe\">\n",
       "  <thead>\n",
       "    <tr style=\"text-align: right;\">\n",
       "      <th></th>\n",
       "      <th>Name</th>\n",
       "      <th>RollNo</th>\n",
       "      <th>Stream</th>\n",
       "    </tr>\n",
       "    <tr>\n",
       "      <th>Numeric Index</th>\n",
       "      <th></th>\n",
       "      <th></th>\n",
       "      <th></th>\n",
       "    </tr>\n",
       "  </thead>\n",
       "  <tbody>\n",
       "    <tr>\n",
       "      <th>0</th>\n",
       "      <td>Jayesh</td>\n",
       "      <td>1</td>\n",
       "      <td>Web Development</td>\n",
       "    </tr>\n",
       "    <tr>\n",
       "      <th>1</th>\n",
       "      <td>Amresh</td>\n",
       "      <td>2</td>\n",
       "      <td>Mobile Development</td>\n",
       "    </tr>\n",
       "    <tr>\n",
       "      <th>2</th>\n",
       "      <td>Abhijit</td>\n",
       "      <td>3</td>\n",
       "      <td>Project Management</td>\n",
       "    </tr>\n",
       "    <tr>\n",
       "      <th>3</th>\n",
       "      <td>Mandar</td>\n",
       "      <td>4</td>\n",
       "      <td>Management</td>\n",
       "    </tr>\n",
       "    <tr>\n",
       "      <th>4</th>\n",
       "      <td>Kedar</td>\n",
       "      <td>4</td>\n",
       "      <td>Software Development</td>\n",
       "    </tr>\n",
       "  </tbody>\n",
       "</table>\n",
       "</div>"
      ],
      "text/plain": [
       "                  Name  RollNo                Stream\n",
       "Numeric Index                                       \n",
       "0               Jayesh       1       Web Development\n",
       "1               Amresh       2    Mobile Development\n",
       "2              Abhijit       3    Project Management\n",
       "3               Mandar       4            Management\n",
       "4                Kedar       4  Software Development"
      ]
     },
     "execution_count": 101,
     "metadata": {},
     "output_type": "execute_result"
    }
   ],
   "source": [
    "newDataFrame.head()\n"
   ]
  },
  {
   "cell_type": "code",
   "execution_count": 102,
   "metadata": {},
   "outputs": [
    {
     "data": {
      "text/plain": [
       "'Abhijit'"
      ]
     },
     "execution_count": 102,
     "metadata": {},
     "output_type": "execute_result"
    }
   ],
   "source": [
    "newDataFrame.loc[2,'Name']"
   ]
  },
  {
   "cell_type": "code",
   "execution_count": 103,
   "metadata": {},
   "outputs": [],
   "source": [
    "newDataFrame.reset_index(inplace=True)"
   ]
  },
  {
   "cell_type": "code",
   "execution_count": 104,
   "metadata": {},
   "outputs": [
    {
     "data": {
      "text/html": [
       "<div>\n",
       "<style scoped>\n",
       "    .dataframe tbody tr th:only-of-type {\n",
       "        vertical-align: middle;\n",
       "    }\n",
       "\n",
       "    .dataframe tbody tr th {\n",
       "        vertical-align: top;\n",
       "    }\n",
       "\n",
       "    .dataframe thead th {\n",
       "        text-align: right;\n",
       "    }\n",
       "</style>\n",
       "<table border=\"1\" class=\"dataframe\">\n",
       "  <thead>\n",
       "    <tr style=\"text-align: right;\">\n",
       "      <th></th>\n",
       "      <th>Numeric Index</th>\n",
       "      <th>Name</th>\n",
       "      <th>RollNo</th>\n",
       "      <th>Stream</th>\n",
       "    </tr>\n",
       "  </thead>\n",
       "  <tbody>\n",
       "    <tr>\n",
       "      <th>0</th>\n",
       "      <td>0</td>\n",
       "      <td>Jayesh</td>\n",
       "      <td>1</td>\n",
       "      <td>Web Development</td>\n",
       "    </tr>\n",
       "    <tr>\n",
       "      <th>1</th>\n",
       "      <td>1</td>\n",
       "      <td>Amresh</td>\n",
       "      <td>2</td>\n",
       "      <td>Mobile Development</td>\n",
       "    </tr>\n",
       "    <tr>\n",
       "      <th>2</th>\n",
       "      <td>2</td>\n",
       "      <td>Abhijit</td>\n",
       "      <td>3</td>\n",
       "      <td>Project Management</td>\n",
       "    </tr>\n",
       "    <tr>\n",
       "      <th>3</th>\n",
       "      <td>3</td>\n",
       "      <td>Mandar</td>\n",
       "      <td>4</td>\n",
       "      <td>Management</td>\n",
       "    </tr>\n",
       "    <tr>\n",
       "      <th>4</th>\n",
       "      <td>4</td>\n",
       "      <td>Kedar</td>\n",
       "      <td>4</td>\n",
       "      <td>Software Development</td>\n",
       "    </tr>\n",
       "  </tbody>\n",
       "</table>\n",
       "</div>"
      ],
      "text/plain": [
       "   Numeric Index     Name  RollNo                Stream\n",
       "0              0   Jayesh       1       Web Development\n",
       "1              1   Amresh       2    Mobile Development\n",
       "2              2  Abhijit       3    Project Management\n",
       "3              3   Mandar       4            Management\n",
       "4              4    Kedar       4  Software Development"
      ]
     },
     "execution_count": 104,
     "metadata": {},
     "output_type": "execute_result"
    }
   ],
   "source": [
    "newDataFrame.head()"
   ]
  },
  {
   "cell_type": "code",
   "execution_count": 105,
   "metadata": {},
   "outputs": [],
   "source": [
    "newDataFrame.set_index(['RollNo','Name'] , inplace=True)"
   ]
  },
  {
   "cell_type": "code",
   "execution_count": 106,
   "metadata": {},
   "outputs": [
    {
     "data": {
      "text/plain": [
       "MultiIndex(levels=[[1, 2, 3, 4], ['Abhijit', 'Amresh', 'Jayesh', 'Kedar', 'Mandar']],\n",
       "           labels=[[0, 1, 2, 3, 3], [2, 1, 0, 4, 3]],\n",
       "           names=['RollNo', 'Name'])"
      ]
     },
     "execution_count": 106,
     "metadata": {},
     "output_type": "execute_result"
    }
   ],
   "source": [
    "newDataFrame.index"
   ]
  },
  {
   "cell_type": "code",
   "execution_count": 112,
   "metadata": {},
   "outputs": [
    {
     "data": {
      "text/plain": [
       "'Management'"
      ]
     },
     "execution_count": 112,
     "metadata": {},
     "output_type": "execute_result"
    }
   ],
   "source": [
    "newDataFrame.loc[(4,'Mandar'),'Stream']"
   ]
  },
  {
   "cell_type": "code",
   "execution_count": null,
   "metadata": {},
   "outputs": [],
   "source": []
  }
 ],
 "metadata": {
  "kernelspec": {
   "display_name": "Python 3",
   "language": "python",
   "name": "python3"
  },
  "language_info": {
   "codemirror_mode": {
    "name": "ipython",
    "version": 3
   },
   "file_extension": ".py",
   "mimetype": "text/x-python",
   "name": "python",
   "nbconvert_exporter": "python",
   "pygments_lexer": "ipython3",
   "version": "3.6.4"
  }
 },
 "nbformat": 4,
 "nbformat_minor": 2
}
